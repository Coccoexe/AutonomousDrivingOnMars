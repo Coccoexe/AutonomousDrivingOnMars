{
 "cells": [
  {
   "cell_type": "code",
   "execution_count": 2,
   "metadata": {},
   "outputs": [
    {
     "name": "stdout",
     "output_type": "stream",
     "text": [
      "d:\\Universita\\Master_Thesis\\AutonomousDrivingOnMars\n"
     ]
    }
   ],
   "source": [
    "import cv2\n",
    "import os\n",
    "import numpy as np\n",
    "\n",
    "DATA_FOLDER = os.path.dirname(os.getcwd()) \n",
    "print(DATA_FOLDER)\n"
   ]
  },
  {
   "cell_type": "code",
   "execution_count": 3,
   "metadata": {},
   "outputs": [
    {
     "name": "stdout",
     "output_type": "stream",
     "text": [
      "d:\\Universita\\Master_Thesis\\AutonomousDrivingOnMars\\dataset\\ai4mars-dataset-merged-0.1\\msl\\images\\edr\\train\\NLB_551440749EDR_F0640996NCAM07753M1.jpg\n"
     ]
    }
   ],
   "source": [
    "DATA_IMAGES_TRAIN = os.path.join(DATA_FOLDER, 'dataset', 'ai4mars-dataset-merged-0.1', 'msl','images','edr','train')\n",
    "img_path = os.path.join(DATA_IMAGES_TRAIN, 'NLB_551440749EDR_F0640996NCAM07753M1.jpg')\n",
    "print(img_path)"
   ]
  },
  {
   "cell_type": "code",
   "execution_count": 4,
   "metadata": {},
   "outputs": [
    {
     "data": {
      "text/plain": [
       "-1"
      ]
     },
     "execution_count": 4,
     "metadata": {},
     "output_type": "execute_result"
    }
   ],
   "source": [
    "img = cv2.imread(img_path)\n",
    "cv2.imshow('image', img)\n",
    "cv2.waitKey(0)\n"
   ]
  },
  {
   "cell_type": "code",
   "execution_count": 5,
   "metadata": {},
   "outputs": [
    {
     "data": {
      "text/plain": [
       "-1"
      ]
     },
     "execution_count": 5,
     "metadata": {},
     "output_type": "execute_result"
    }
   ],
   "source": [
    "DATA_LABLES_TRAIN = os.path.join(DATA_FOLDER, 'dataset', 'ai4mars-dataset-merged-0.1', 'msl','labels','train')\n",
    "labl_path = os.path.join(DATA_LABLES_TRAIN, 'NLB_551440749EDR_F0640996NCAM07753M1.png')\n",
    "lbl = cv2.imread(labl_path)\n",
    "cv2.imshow('label', lbl*20)\n",
    "cv2.imshow('image', img)\n",
    "cv2.waitKey(0)\n",
    "\n"
   ]
  },
  {
   "cell_type": "code",
   "execution_count": 6,
   "metadata": {},
   "outputs": [
    {
     "data": {
      "text/plain": [
       "-1"
      ]
     },
     "execution_count": 6,
     "metadata": {},
     "output_type": "execute_result"
    }
   ],
   "source": [
    "depth_anything_path = os.getcwd() + '/NLB_551440749EDR_F0640996NCAM07753M1_img_depth.png'\n",
    "depth_anything = cv2.imread(depth_anything_path)\n",
    "depth_anything_gray = cv2.imread(depth_anything_path, cv2.IMREAD_GRAYSCALE)\n",
    "cv2.imshow('depthC', depth_anything*5)\n",
    "cv2.imshow('depth', depth_anything_gray*5)\n",
    "cv2.waitKey(0)"
   ]
  },
  {
   "cell_type": "code",
   "execution_count": 19,
   "metadata": {},
   "outputs": [
    {
     "name": "stdout",
     "output_type": "stream",
     "text": [
      "(1024, 1024, 3)\n",
      "(1024, 1024, 3)\n"
     ]
    }
   ],
   "source": [
    "depth_anything_path_single = os.getcwd() + '/NLB_551440749EDR_F0640996NCAM07753M1_depth_single.png'\n",
    "da_s = cv2.imread(depth_anything_path_single)\n",
    "\n",
    "\n",
    "lbl20 = lbl*20\n",
    "da_s = 255-da_s\n",
    "da_s = da_s\n",
    "\n",
    "#cv2.imshow('label', lbl20)\n",
    "cv2.imshow('depth', da_s)\n",
    "cv2.imshow('image', img)\n",
    "cv2.waitKey(0)\n",
    "cv2.normalize(da_s, da_s, 0, 255/2, cv2.NORM_MINMAX)\n",
    "da_s = da_s*2\n",
    "cv2.imshow('depth', da_s)\n",
    "cv2.imshow('image', img)\n",
    "\n",
    "cv2.waitKey(0)\n",
    "print(da_s.shape)\n",
    "print(lbl.shape)\n",
    "\n",
    "#dst = cv2.addWeighted(da_s, 1 , (255-lbl), 0.05, 0)\n",
    "#cv2.imshow('overlay', dst)\n",
    "\n",
    "#dst_img = cv2.addWeighted(img, 0.5 , lbl, 0.5, 0)\n",
    "#cv2.imshow('overlayDeep', dst_img)\n",
    "\n"
   ]
  }
 ],
 "metadata": {
  "kernelspec": {
   "display_name": "base",
   "language": "python",
   "name": "python3"
  },
  "language_info": {
   "codemirror_mode": {
    "name": "ipython",
    "version": 3
   },
   "file_extension": ".py",
   "mimetype": "text/x-python",
   "name": "python",
   "nbconvert_exporter": "python",
   "pygments_lexer": "ipython3",
   "version": "3.11.7"
  }
 },
 "nbformat": 4,
 "nbformat_minor": 2
}
