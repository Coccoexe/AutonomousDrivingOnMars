{
 "cells": [
  {
   "cell_type": "code",
   "execution_count": 5,
   "metadata": {},
   "outputs": [],
   "source": [
    "import os\n",
    "import cv2 as cv\n",
    "import numpy as np\n",
    "import random\n",
    "from tqdm.notebook import tqdm\n",
    "\n",
    "#get the current working directory\n",
    "cwd = os.getcwd()\n",
    "#get the directory parent\n",
    "FOLDER_MAIN = os.path.dirname(cwd)\n",
    "#concatenate dataset\\msl\\labels\n",
    "FOLDER_LABELS = os.path.join(FOLDER_MAIN, \"dataset\",  \"msl\", \"labels\")\n",
    "FOLDER_LABELS_TRAIN = os.path.join(FOLDER_LABELS, \"train\")\n",
    "FOLDER_LABELS_TEST = os.path.join(FOLDER_LABELS, \"test\")\n",
    "F_L_MIN1 = os.path.join(FOLDER_LABELS_TEST, \"masked-gold-min1-100agree\")\n",
    "F_L_MIN2 = os.path.join(FOLDER_LABELS_TEST, \"masked-gold-min2-100agree\")\n",
    "F_L_MIN3 = os.path.join(FOLDER_LABELS_TEST, \"masked-gold-min3-100agree\")\n",
    "\n"
   ]
  },
  {
   "cell_type": "code",
   "execution_count": 8,
   "metadata": {},
   "outputs": [],
   "source": [
    "def close(path):\n",
    "    files_name = os.listdir(path)\n",
    "    for file in files_name:\n",
    "        if file.endswith(\".png\"):\n",
    "            img = cv.imread(os.path.join(path, file))\n",
    "            kernel = np.ones((5,5),np.uint8)\n",
    "            closing = cv.morphologyEx(img, cv.MORPH_CLOSE, kernel)\n",
    "            cv.imwrite(os.path.join(path, file), closing)\n",
    "    print(\"done\")\n",
    "             \n"
   ]
  },
  {
   "cell_type": "code",
   "execution_count": 9,
   "metadata": {},
   "outputs": [
    {
     "name": "stdout",
     "output_type": "stream",
     "text": [
      "done\n"
     ]
    }
   ],
   "source": [
    "close(F_L_MIN1)"
   ]
  },
  {
   "cell_type": "code",
   "execution_count": 10,
   "metadata": {},
   "outputs": [
    {
     "name": "stdout",
     "output_type": "stream",
     "text": [
      "done\n",
      "done\n"
     ]
    }
   ],
   "source": [
    "close(F_L_MIN2)\n",
    "close(F_L_MIN3)\n",
    "\n"
   ]
  },
  {
   "cell_type": "code",
   "execution_count": 11,
   "metadata": {},
   "outputs": [
    {
     "name": "stdout",
     "output_type": "stream",
     "text": [
      "done\n"
     ]
    }
   ],
   "source": [
    "close(FOLDER_LABELS_TRAIN)"
   ]
  }
 ],
 "metadata": {
  "kernelspec": {
   "display_name": "gpu_2",
   "language": "python",
   "name": "python3"
  },
  "language_info": {
   "codemirror_mode": {
    "name": "ipython",
    "version": 3
   },
   "file_extension": ".py",
   "mimetype": "text/x-python",
   "name": "python",
   "nbconvert_exporter": "python",
   "pygments_lexer": "ipython3",
   "version": "3.11.8"
  }
 },
 "nbformat": 4,
 "nbformat_minor": 2
}
