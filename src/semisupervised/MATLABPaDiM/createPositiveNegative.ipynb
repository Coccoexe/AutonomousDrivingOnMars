{
 "cells": [
  {
   "cell_type": "code",
   "execution_count": 5,
   "metadata": {},
   "outputs": [
    {
     "name": "stdout",
     "output_type": "stream",
     "text": [
      "done ...\n",
      "FOLDER_MAIN:  d:\\Universita\\Master_Thesis\\AutonomousDrivingOnMars\\dataset\\ai4mars-dataset-merged-0.3\\msl\\images\\edr\n"
     ]
    }
   ],
   "source": [
    "import os\n",
    "import cv2 as cv\n",
    "import numpy as np\n",
    "import random\n",
    "from tqdm.notebook import tqdm\n",
    "\n",
    "#get the current working directory\n",
    "cwd = os.path.dirname(os.getcwd())\n",
    "#get the directory parent\n",
    "FOLDER_MAIN = os.path.dirname(cwd)\n",
    "#concatenate dataset\\ai4mars-dataset-merged-0.1\\msl\\images\\edr\\train\n",
    "FOLDER_DATASET = os.path.join(FOLDER_MAIN, 'dataset', 'ai4mars-dataset-merged-0.3', 'msl')\n",
    "DIR_TRAIN_IMAGES = os.path.join(FOLDER_DATASET,'images', 'edr')\n",
    "DIR_TRAIN_LABELS = os.path.join(FOLDER_DATASET,'labels', 'train')\n",
    "\n",
    "DIR_TEST_IMAGES = os.path.join(FOLDER_DATASET,'images', 'edr')\n",
    "DIR_TEST_LABELS = os.path.join(FOLDER_DATASET,'labels', 'test')\n",
    "\n",
    "DIR_TEST_LABELS_MIN1 = os.path.join(DIR_TEST_LABELS,'masked-gold-min1-100agree')\n",
    "DIR_TEST_LABELS_MIN2 = os.path.join(DIR_TEST_LABELS, 'masked-gold-min2-100agree')\n",
    "DIR_TEST_LABELS_MIN3 = os.path.join(DIR_TEST_LABELS, 'masked-gold-min3-100agree')\n",
    "\n",
    "\n",
    "IMAGES = os.path.join(FOLDER_MAIN,\"dataset\",\"ai4mars_data_prep_NEW_MERGED_OPT\",\"images\",\"train\")\n",
    "LABEL = os.path.join(FOLDER_MAIN,\"dataset\",\"ai4mars_data_prep_NEW_MERGED_OPT\",\"labels\",\"train\")\n",
    "print(\"done ...\")\n",
    "print(\"FOLDER_MAIN: \", DIR_TRAIN_IMAGES)\n",
    "\n"
   ]
  },
  {
   "cell_type": "code",
   "execution_count": 6,
   "metadata": {},
   "outputs": [],
   "source": [
    "OUTPUT_DIR = os.path.join(FOLDER_MAIN, 'dataset', 'positiveNegativeDataset')\n",
    "if not os.path.exists(OUTPUT_DIR):\n",
    "    os.makedirs(OUTPUT_DIR)\n",
    "\n",
    "OUTPUT_DIR_POS = os.path.join(OUTPUT_DIR, 'positive')\n",
    "OUTPUT_DIR_NEG = os.path.join(OUTPUT_DIR, 'negative')\n",
    "\n",
    "if not os.path.exists(OUTPUT_DIR_POS):\n",
    "    os.makedirs(OUTPUT_DIR_POS)\n",
    "else:\n",
    "    files = os.listdir(OUTPUT_DIR_POS)\n",
    "    for f in files:\n",
    "        os.remove(os.path.join(OUTPUT_DIR_POS, f))\n",
    "    \n",
    "if not os.path.exists(OUTPUT_DIR_NEG):\n",
    "    os.makedirs(OUTPUT_DIR_NEG)\n",
    "else:\n",
    "    files = os.listdir(OUTPUT_DIR_NEG)\n",
    "    for f in files:\n",
    "        os.remove(os.path.join(OUTPUT_DIR_NEG, f))\n",
    "\n"
   ]
  },
  {
   "cell_type": "code",
   "execution_count": 7,
   "metadata": {},
   "outputs": [
    {
     "name": "stdout",
     "output_type": "stream",
     "text": [
      "NLA_397681372EDR_F0020000AUT_04096M1\n",
      "end of negative images ...\n",
      "end of positive images ...\n"
     ]
    },
    {
     "ename": "KeyboardInterrupt",
     "evalue": "",
     "output_type": "error",
     "traceback": [
      "\u001b[1;31m---------------------------------------------------------------------------\u001b[0m",
      "\u001b[1;31mKeyboardInterrupt\u001b[0m                         Traceback (most recent call last)",
      "Cell \u001b[1;32mIn[7], line 13\u001b[0m\n\u001b[0;32m     11\u001b[0m     \u001b[38;5;28;01mcontinue\u001b[39;00m\n\u001b[0;32m     12\u001b[0m \u001b[38;5;66;03m#concatenate the file name with the directory\u001b[39;00m\n\u001b[1;32m---> 13\u001b[0m img \u001b[38;5;241m=\u001b[39m \u001b[43mcv\u001b[49m\u001b[38;5;241;43m.\u001b[39;49m\u001b[43mimread\u001b[49m\u001b[43m(\u001b[49m\u001b[43mos\u001b[49m\u001b[38;5;241;43m.\u001b[39;49m\u001b[43mpath\u001b[49m\u001b[38;5;241;43m.\u001b[39;49m\u001b[43mjoin\u001b[49m\u001b[43m(\u001b[49m\u001b[43mIMAGES\u001b[49m\u001b[43m,\u001b[49m\u001b[43m \u001b[49m\u001b[43mf\u001b[49m\u001b[43m \u001b[49m\u001b[38;5;241;43m+\u001b[39;49m\u001b[43m \u001b[49m\u001b[38;5;124;43m'\u001b[39;49m\u001b[38;5;124;43m.png\u001b[39;49m\u001b[38;5;124;43m'\u001b[39;49m\u001b[43m)\u001b[49m\u001b[43m)\u001b[49m\n\u001b[0;32m     14\u001b[0m label \u001b[38;5;241m=\u001b[39m cv\u001b[38;5;241m.\u001b[39mimread(os\u001b[38;5;241m.\u001b[39mpath\u001b[38;5;241m.\u001b[39mjoin(LABEL, f \u001b[38;5;241m+\u001b[39m \u001b[38;5;124m'\u001b[39m\u001b[38;5;124m.png\u001b[39m\u001b[38;5;124m'\u001b[39m))\n\u001b[0;32m     15\u001b[0m \u001b[38;5;66;03m#chek if lable as at leat a pixel = 3\u001b[39;00m\n",
      "\u001b[1;31mKeyboardInterrupt\u001b[0m: "
     ]
    }
   ],
   "source": [
    "#list all the files in the directory\n",
    "files = os.listdir(IMAGES)\n",
    "#delete last three letter of the file name\n",
    "files = [f[:-4] for f in files]\n",
    "print (files[1])\n",
    "countPos,countNeg = 1350, 1350\n",
    "skip = 100\n",
    "for f in files:\n",
    "    if skip > 0:\n",
    "        skip -= 1\n",
    "        continue\n",
    "    #concatenate the file name with the directory\n",
    "    img = cv.imread(os.path.join(IMAGES, f + '.png'))\n",
    "    label = cv.imread(os.path.join(LABEL, f + '.png'))\n",
    "    #chek if lable as at leat a pixel = 3\n",
    "    if np.any(label == 3):\n",
    "        if countPos > 0:\n",
    "            cv.imwrite(os.path.join(OUTPUT_DIR_POS, f + '.png'), img)\n",
    "            countPos -= 1\n",
    "            if countPos == 0:\n",
    "                print(\"end of positive images ...\")\n",
    "    else:\n",
    "        if countNeg > 0:\n",
    "            cv.imwrite(os.path.join(OUTPUT_DIR_NEG, f + '.png'), img)\n",
    "            countNeg -= 1\n",
    "            if countNeg == 0:\n",
    "                print(\"end of negative images ...\")\n",
    "\n",
    "print(\"done ...\")           \n",
    "        \n",
    "        \n",
    "    "
   ]
  }
 ],
 "metadata": {
  "kernelspec": {
   "display_name": "gpu_2",
   "language": "python",
   "name": "python3"
  },
  "language_info": {
   "codemirror_mode": {
    "name": "ipython",
    "version": 3
   },
   "file_extension": ".py",
   "mimetype": "text/x-python",
   "name": "python",
   "nbconvert_exporter": "python",
   "pygments_lexer": "ipython3",
   "version": "3.11.8"
  }
 },
 "nbformat": 4,
 "nbformat_minor": 2
}
