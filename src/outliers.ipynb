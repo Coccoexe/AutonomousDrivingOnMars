{
 "cells": [
  {
   "cell_type": "code",
   "execution_count": 11,
   "metadata": {},
   "outputs": [],
   "source": [
    "import pandas as pd\n",
    "import numpy as np\n",
    "import matplotlib.pyplot as plt\n",
    "import os"
   ]
  },
  {
   "cell_type": "code",
   "execution_count": 12,
   "metadata": {},
   "outputs": [
    {
     "name": "stdout",
     "output_type": "stream",
     "text": [
      "                    labeler     weight\n",
      "0                   2082767  12.691972\n",
      "1                   2098082  14.179000\n",
      "2                   1979136  18.260324\n",
      "3                   2094824  11.869255\n",
      "4                   2109038   8.418210\n",
      "...                     ...        ...\n",
      "10034  8d04f7e9c254bcd3c56d  40.847111\n",
      "10035  813f0a31d8067d2693df  25.719929\n",
      "10036  c7278a50a5dfcfa6fc51  12.057877\n",
      "10037  034b72cb0d2101353cfc  23.560238\n",
      "10038  0a5e80cfe6d2313e2b3e   7.371998\n",
      "\n",
      "[10039 rows x 2 columns]\n",
      "<class 'pandas.core.frame.DataFrame'>\n",
      "RangeIndex: 10039 entries, 0 to 10038\n",
      "Data columns (total 2 columns):\n",
      " #   Column   Non-Null Count  Dtype  \n",
      "---  ------   --------------  -----  \n",
      " 0   labeler  10039 non-null  object \n",
      " 1   weight   10039 non-null  float64\n",
      "dtypes: float64(1), object(1)\n",
      "memory usage: 157.0+ KB\n",
      "None\n"
     ]
    }
   ],
   "source": [
    "#read the csv file\n",
    "cwd = os.getcwd()\n",
    "home_folder = os.path.dirname(cwd)\n",
    "data_path = home_folder + '/labelers_weight.txt'\n",
    "#set divider of cvs as ; and no coliumn names\n",
    "df = pd.read_csv(data_path, sep=';', header=None)\n",
    "\n",
    "\n",
    "#set the column names\n",
    "df.columns = ['labeler', 'weight','lbl 0','lbl 1','lbl 2','lbl 3','lbl 255']\n",
    "#set type of labeler as string\n",
    "df['labeler'] = df['labeler'].astype(str)\n",
    "#set type of weight as float casting the column\n",
    "df['weight'] = df['weight'].str.replace(',', '.')\n",
    "df['weight'] = df['weight'].astype(float)\n",
    "dimension = 1024*1024\n",
    "df['weight'] = df['weight']/dimension*100\n",
    "\n",
    "\n",
    "print(df)\n",
    "print(df.info())"
   ]
  },
  {
   "cell_type": "code",
   "execution_count": 13,
   "metadata": {},
   "outputs": [
    {
     "data": {
      "text/html": [
       "<div>\n",
       "<style scoped>\n",
       "    .dataframe tbody tr th:only-of-type {\n",
       "        vertical-align: middle;\n",
       "    }\n",
       "\n",
       "    .dataframe tbody tr th {\n",
       "        vertical-align: top;\n",
       "    }\n",
       "\n",
       "    .dataframe thead th {\n",
       "        text-align: right;\n",
       "    }\n",
       "</style>\n",
       "<table border=\"1\" class=\"dataframe\">\n",
       "  <thead>\n",
       "    <tr style=\"text-align: right;\">\n",
       "      <th></th>\n",
       "      <th>weight</th>\n",
       "    </tr>\n",
       "  </thead>\n",
       "  <tbody>\n",
       "    <tr>\n",
       "      <th>count</th>\n",
       "      <td>10039.000000</td>\n",
       "    </tr>\n",
       "    <tr>\n",
       "      <th>mean</th>\n",
       "      <td>26.062814</td>\n",
       "    </tr>\n",
       "    <tr>\n",
       "      <th>std</th>\n",
       "      <td>18.397922</td>\n",
       "    </tr>\n",
       "    <tr>\n",
       "      <th>min</th>\n",
       "      <td>0.000000</td>\n",
       "    </tr>\n",
       "    <tr>\n",
       "      <th>25%</th>\n",
       "      <td>13.343545</td>\n",
       "    </tr>\n",
       "    <tr>\n",
       "      <th>50%</th>\n",
       "      <td>20.837196</td>\n",
       "    </tr>\n",
       "    <tr>\n",
       "      <th>75%</th>\n",
       "      <td>33.976502</td>\n",
       "    </tr>\n",
       "    <tr>\n",
       "      <th>max</th>\n",
       "      <td>98.272705</td>\n",
       "    </tr>\n",
       "  </tbody>\n",
       "</table>\n",
       "</div>"
      ],
      "text/plain": [
       "             weight\n",
       "count  10039.000000\n",
       "mean      26.062814\n",
       "std       18.397922\n",
       "min        0.000000\n",
       "25%       13.343545\n",
       "50%       20.837196\n",
       "75%       33.976502\n",
       "max       98.272705"
      ]
     },
     "execution_count": 13,
     "metadata": {},
     "output_type": "execute_result"
    }
   ],
   "source": [
    "df.describe()"
   ]
  },
  {
   "cell_type": "code",
   "execution_count": 14,
   "metadata": {},
   "outputs": [
    {
     "data": {
      "text/plain": [
       "array([[<Axes: title={'center': 'weight'}>]], dtype=object)"
      ]
     },
     "execution_count": 14,
     "metadata": {},
     "output_type": "execute_result"
    },
    {
     "data": {
      "image/png": "[encoded data removed]",
      "text/plain": [
       "<Figure size 640x480 with 1 Axes>"
      ]
     },
     "metadata": {},
     "output_type": "display_data"
    }
   ],
   "source": [
    "df.hist()"
   ]
  },
  {
   "cell_type": "code",
   "execution_count": 15,
   "metadata": {},
   "outputs": [
    {
     "data": {
      "text/plain": [
       "labeler    0\n",
       "weight     0\n",
       "dtype: int64"
      ]
     },
     "execution_count": 15,
     "metadata": {},
     "output_type": "execute_result"
    }
   ],
   "source": [
    "df.isnull().sum()\n"
   ]
  },
  {
   "cell_type": "code",
   "execution_count": 16,
   "metadata": {},
   "outputs": [
    {
     "name": "stdout",
     "output_type": "stream",
     "text": [
      "Mean:  26.062814194209448\n",
      "Median:  20.83719571431478\n",
      "Standard Deviation:  18.39792156971985\n"
     ]
    }
   ],
   "source": [
    "#calculate the mean the medianm the mode and teh standard deviation\n",
    "mean = df['weight'].mean()\n",
    "median = df['weight'].median()\n",
    "mode = df['weight'].mode()\n",
    "std = df['weight'].std()\n",
    "\n",
    "print('Mean: ', mean)\n",
    "print('Median: ', median)\n",
    "print('Standard Deviation: ', std)"
   ]
  },
  {
   "cell_type": "code",
   "execution_count": 17,
   "metadata": {},
   "outputs": [],
   "source": [
    "\n",
    "def detect_outliers(data):\n",
    "    outliers=[]\n",
    "    threshold=3\n",
    "    mean = np.mean(data)\n",
    "    std =np.std(data)\n",
    "    \n",
    "    for i in data:\n",
    "        z_score= (i - mean)/std \n",
    "        if np.abs(z_score) > threshold:\n",
    "            outliers.append(i)\n",
    "    return outliers"
   ]
  },
  {
   "cell_type": "code",
   "execution_count": 18,
   "metadata": {},
   "outputs": [
    {
     "name": "stdout",
     "output_type": "stream",
     "text": [
      "1.4543281203307101\n",
      "146\n",
      "10039\n"
     ]
    },
    {
     "data": {
      "image/png": "[encoded data removed]",
      "text/plain": [
       "<Figure size 640x480 with 1 Axes>"
      ]
     },
     "metadata": {},
     "output_type": "display_data"
    }
   ],
   "source": [
    "outliers = detect_outliers(df['weight'])\n",
    "plt.hist(outliers, bins=20)\n",
    "print(len(outliers)/len(df['weight'])*100)\n",
    "print(len(outliers))\n",
    "print(len(df['weight']))"
   ]
  },
  {
   "cell_type": "code",
   "execution_count": 19,
   "metadata": {},
   "outputs": [],
   "source": [
    "#drop the outliers\n",
    "df = df[~df['weight'].isin(outliers)]"
   ]
  },
  {
   "cell_type": "code",
   "execution_count": 20,
   "metadata": {},
   "outputs": [],
   "source": [
    "#save the cleaned data in a new csv file\n",
    "#df.to_csv(home_folder + '/cleaned_labelers_weight.csv', sep=';', index=False)"
   ]
  },
  {
   "cell_type": "code",
   "execution_count": null,
   "metadata": {},
   "outputs": [],
   "source": [
    "\n",
    "import pandas as pd\n",
    "from ydata_profiling import ProfileReport\n",
    "\n",
    "df = pd.read_csv('data.csv')\n",
    "profile = ProfileReport(df, title=\"Profiling Report\")"
   ]
  }
 ],
 "metadata": {
  "kernelspec": {
   "display_name": "gpu_2",
   "language": "python",
   "name": "python3"
  },
  "language_info": {
   "codemirror_mode": {
    "name": "ipython",
    "version": 3
   },
   "file_extension": ".py",
   "mimetype": "text/x-python",
   "name": "python",
   "nbconvert_exporter": "python",
   "pygments_lexer": "ipython3",
   "version": "3.11.8"
  }
 },
 "nbformat": 4,
 "nbformat_minor": 2
}
