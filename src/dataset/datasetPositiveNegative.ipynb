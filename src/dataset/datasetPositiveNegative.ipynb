{
 "cells": [
  {
   "cell_type": "markdown",
   "metadata": {},
   "source": [
    "# Positive-Negative Dataset Creation\n",
    "\n",
    "This Jupyter Notebook is dedicated to creating a positive-negative dataset. The dataset consists of images, where:\n",
    "\n",
    "- **Positive samples** contain a big rock.\n",
    "- **Negative samples** do not contain a big rock.\n",
    "\n"
   ]
  },
  {
   "cell_type": "code",
   "execution_count": 1,
   "metadata": {},
   "outputs": [],
   "source": [
    "import cv2 as cv\n",
    "import shutil\n",
    "import os\n",
    "\n",
    "#for each file in the directory\n",
    "def create_dataset(path_label,path_images ,name = \"\" , merged = False, rock_class = 3):\n",
    "    if name == \"\":\n",
    "        name = path_label.split('/')[-1]\n",
    "    output_path = os.path.join(os.path.dirname(os.path.dirname(os.path.join(os.getcwd()))), 'dataset' , 'positiveNegative', name)\n",
    "\n",
    "\n",
    "    #create the directory\n",
    "    if not os.path.exists(output_path):\n",
    "        os.makedirs(output_path)\n",
    "    \n",
    "    positive_path = os.path.join(output_path, 'positive')\n",
    "    negative_path = os.path.join(output_path, 'negative')\n",
    "\n",
    "    if not os.path.exists(positive_path):\n",
    "        os.makedirs(positive_path)\n",
    "    else: \n",
    "        shutil.rmtree(positive_path)\n",
    "        os.makedirs(positive_path)\n",
    "    if not os.path.exists(negative_path):\n",
    "        os.makedirs(negative_path)\n",
    "    else:\n",
    "        shutil.rmtree(negative_path)\n",
    "        os.makedirs(negative_path)\n",
    "    \n",
    "    #create an array of dim 2\n",
    "    #first dimension is the path oo the image second path label\n",
    "    data = []\n",
    "    if merged:\n",
    "        for file in os.listdir(path_label):\n",
    "            path_file = os.path.join(path_label, file)\n",
    "            file_name = file.split('.')[0][:-7] #remove the last _merged\n",
    "            path_img = os.path.join(path_images, file_name + '.JPG')\n",
    "            data += [[path_img, path_file]]\n",
    "\n",
    "    else:\n",
    "        for file in os.listdir(path_label):\n",
    "            path_file = os.path.join(path_label, file)\n",
    "            file_name = file.split('.')[0]\n",
    "            path_img = os.path.join(path_images,  file_name + '.JPG')\n",
    "            data += [[path_img, path_file]]\n",
    "\n",
    "    print('Number of files:', len(data))\n",
    "\n",
    "    for i in range(len(data)):\n",
    "        positive = False\n",
    "        img_path = data[i][0]\n",
    "        label_path = data[i][1]\n",
    "\n",
    "        label = cv.imread(label_path, cv.IMREAD_GRAYSCALE)\n",
    "        if rock_class in label.flatten():    \n",
    "            positive = True\n",
    "        if positive:\n",
    "            shutil.copy(img_path, positive_path)\n",
    "        else:\n",
    "            shutil.copy(img_path, negative_path)"
   ]
  },
  {
   "cell_type": "markdown",
   "metadata": {},
   "source": [
    "## AI4MARS"
   ]
  },
  {
   "cell_type": "code",
   "execution_count": 5,
   "metadata": {},
   "outputs": [],
   "source": [
    "import os\n",
    "\n",
    "\n",
    "# Path to the working directory\n",
    "#path_to_main_directory = os.path.join(os.getcwd(), 'data')\n",
    "path_to_main_directory =  os.path.join(os.path.dirname(os.path.dirname(os.path.join(os.getcwd()))), 'dataset','ai4mars-dataset-merged-0.3','msl')\n",
    "path_to_files_img = os.path.join(path_to_main_directory, 'images')\n",
    "path_to_label = os.path.join(path_to_main_directory, 'labels')\n",
    "\n",
    "path_to_images = os.path.join(path_to_files_img,'edr')\n",
    "path_to_label_train = os.path.join(path_to_label,'train')\n",
    "path_to_label_test = os.path.join(path_to_label,'test')\n",
    "\n",
    "path_min1 = os.path.join(path_to_label_test,'masked-gold-min1-100agree')\n",
    "path_min2 = os.path.join(path_to_label_test,'masked-gold-min2-100agree')\n",
    "path_min3 = os.path.join(path_to_label_test,'masked-gold-min3-100agree')"
   ]
  },
  {
   "cell_type": "code",
   "execution_count": 43,
   "metadata": {},
   "outputs": [
    {
     "name": "stdout",
     "output_type": "stream",
     "text": [
      "Number of files: 322\n"
     ]
    }
   ],
   "source": [
    "create_dataset(path_min1, path_to_images, 'AI4MARS_min1', True)"
   ]
  },
  {
   "cell_type": "code",
   "execution_count": 44,
   "metadata": {},
   "outputs": [
    {
     "name": "stdout",
     "output_type": "stream",
     "text": [
      "Number of files: 16064\n"
     ]
    }
   ],
   "source": [
    "create_dataset(path_to_label_train,path_to_images, 'AI4MARS_train', False)"
   ]
  },
  {
   "cell_type": "markdown",
   "metadata": {},
   "source": [
    "## AI4MARS improved"
   ]
  },
  {
   "cell_type": "code",
   "execution_count": 45,
   "metadata": {},
   "outputs": [
    {
     "name": "stdout",
     "output_type": "stream",
     "text": [
      "c:\\Users\\usalv\\OneDrive\\Desktop\\Universita\\Master_Thesis\\AutonomusDriving\\AutonomousDrivingOnMars\\dataset\\ai4mars-dataset-merged-0.4\\labels\\test\n"
     ]
    }
   ],
   "source": [
    "path_to_improved_train = os.path.join(os.path.dirname(os.path.dirname(os.path.join(os.getcwd()))), 'dataset','ai4mars-dataset-merged-0.4','labels','train')\n",
    "path_to_improved_test = os.path.join(os.path.dirname(os.path.dirname(os.path.join(os.getcwd()))), 'dataset','ai4mars-dataset-merged-0.4','labels','test')\n",
    "print(path_to_improved_test)"
   ]
  },
  {
   "cell_type": "code",
   "execution_count": 46,
   "metadata": {},
   "outputs": [
    {
     "name": "stdout",
     "output_type": "stream",
     "text": [
      "Number of files: 322\n"
     ]
    }
   ],
   "source": [
    "create_dataset(path_to_improved_test, path_to_images, 'AI4MARS_improved_test', False)"
   ]
  },
  {
   "cell_type": "code",
   "execution_count": 47,
   "metadata": {},
   "outputs": [
    {
     "name": "stdout",
     "output_type": "stream",
     "text": [
      "Number of files: 16064\n"
     ]
    }
   ],
   "source": [
    "create_dataset(path_to_improved_train, path_to_images, 'AI4MARS_improved_train', False)"
   ]
  },
  {
   "cell_type": "markdown",
   "metadata": {},
   "source": [
    "## S5MARS"
   ]
  },
  {
   "cell_type": "code",
   "execution_count": 3,
   "metadata": {},
   "outputs": [
    {
     "name": "stdout",
     "output_type": "stream",
     "text": [
      "c:\\Users\\usalv\\OneDrive\\Desktop\\Universita\\Master_Thesis\\AutonomusDriving\\AutonomousDrivingOnMars\\dataset\\S5Mars\\labels\\test\n"
     ]
    }
   ],
   "source": [
    "path_s5mars = os.path.join(os.path.dirname(os.path.dirname(os.path.join(os.getcwd()))), 'dataset','S5Mars')\n",
    "path_s5_images_train = os.path.join(path_s5mars, 'images', 'train')\n",
    "path_s5_images_test = os.path.join(path_s5mars,'images','test')\n",
    "path_s5_images = os.path.join(path_s5mars,'images')\n",
    "path_s5_labels_train = os.path.join(path_s5mars, 'labels', 'train')\n",
    "path_s5_labels_test = os.path.join(path_s5mars,'labels','test')\n",
    "print(path_s5_labels_test)"
   ]
  },
  {
   "cell_type": "code",
   "execution_count": 5,
   "metadata": {},
   "outputs": [
    {
     "name": "stdout",
     "output_type": "stream",
     "text": [
      "Number of files: 800\n"
     ]
    }
   ],
   "source": [
    "create_dataset(path_s5_labels_test,path_s5_images_test, 'S5Mars_test', False,6)"
   ]
  },
  {
   "cell_type": "code",
   "execution_count": 6,
   "metadata": {},
   "outputs": [
    {
     "name": "stdout",
     "output_type": "stream",
     "text": [
      "Number of files: 5008\n"
     ]
    }
   ],
   "source": [
    "create_dataset(path_s5_labels_train,path_s5_images_train, 'S5Mars_trian', False,6)"
   ]
  },
  {
   "cell_type": "markdown",
   "metadata": {},
   "source": [
    "## S5MARS rover\n"
   ]
  },
  {
   "cell_type": "code",
   "execution_count": 7,
   "metadata": {},
   "outputs": [
    {
     "name": "stdout",
     "output_type": "stream",
     "text": [
      "Number of files: 800\n"
     ]
    }
   ],
   "source": [
    "create_dataset(path_s5_labels_test,path_s5_images_test, 'S5Mars_test_rover', False,7)"
   ]
  },
  {
   "cell_type": "code",
   "execution_count": 8,
   "metadata": {},
   "outputs": [
    {
     "name": "stdout",
     "output_type": "stream",
     "text": [
      "Number of files: 5008\n"
     ]
    }
   ],
   "source": [
    "create_dataset(path_s5_labels_train,path_s5_images_train, 'S5Mars_trian_rover', False,7)"
   ]
  }
 ],
 "metadata": {
  "kernelspec": {
   "display_name": "dataAnalisis",
   "language": "python",
   "name": "python3"
  },
  "language_info": {
   "codemirror_mode": {
    "name": "ipython",
    "version": 3
   },
   "file_extension": ".py",
   "mimetype": "text/x-python",
   "name": "python",
   "nbconvert_exporter": "python",
   "pygments_lexer": "ipython3",
   "version": "3.8.18"
  }
 },
 "nbformat": 4,
 "nbformat_minor": 2
}
